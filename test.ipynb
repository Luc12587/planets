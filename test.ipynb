{
 "cells": [
  {
   "attachments": {},
   "cell_type": "markdown",
   "metadata": {},
   "source": [
    "# Python + Jupyter exercises"
   ]
  },
  {
   "attachments": {},
   "cell_type": "markdown",
   "metadata": {},
   "source": [
    "## 1) Write a list (the python word for an array) called `my_movies_list` with your 4 favorite movies or tv series\n",
    "#### Hints:\n",
    "- strings can have single quotes `''` or double quotes `\"\"`\n",
    "- list have square brackets `[ ]`"
   ]
  },
  {
   "cell_type": "code",
   "execution_count": 20,
   "metadata": {},
   "outputs": [],
   "source": [
    "my_movies_list = ['monthy python', 'peaky blinders', 'sesamstraat', 'champions league']\n"
   ]
  },
  {
   "attachments": {},
   "cell_type": "markdown",
   "metadata": {},
   "source": [
    "## 2) Select the second and third element from your list\n",
    "#### Hints:\n",
    "- python starts counting at 0, so the second element gets index number 1"
   ]
  },
  {
   "cell_type": "code",
   "execution_count": 21,
   "metadata": {},
   "outputs": [
    {
     "name": "stdout",
     "output_type": "stream",
     "text": [
      "['peaky blinders', 'sesamstraat']\n",
      "peaky blinders, sesamstraat\n"
     ]
    }
   ],
   "source": [
    "print(my_movies_list[1:3])\n",
    "\n",
    "\n",
    "print(\", \".join(my_movies_list[1:3]))\n",
    "\n"
   ]
  },
  {
   "attachments": {},
   "cell_type": "markdown",
   "metadata": {},
   "source": [
    "## 3) Select the last element from your list\n",
    "#### Hints:\n",
    "- the last element can be selected by using -1"
   ]
  },
  {
   "cell_type": "code",
   "execution_count": 16,
   "metadata": {},
   "outputs": [
    {
     "name": "stdout",
     "output_type": "stream",
     "text": [
      "champions league\n"
     ]
    }
   ],
   "source": [
    "print(my_movies_list[-1])"
   ]
  },
  {
   "attachments": {},
   "cell_type": "markdown",
   "metadata": {},
   "source": [
    "\n",
    "## 4) Write a (pythonic) for loop that loops through your movies list and prints them out\n",
    "#### Hints:\n",
    "- use 4 space indentation or a tab as indentation (although Jupyter will give you this automatically)"
   ]
  },
  {
   "cell_type": "code",
   "execution_count": 32,
   "metadata": {},
   "outputs": [
    {
     "name": "stdout",
     "output_type": "stream",
     "text": [
      "    monthy python\n",
      "    peaky blinders\n",
      "    sesamstraat\n",
      "    champions league\n"
     ]
    }
   ],
   "source": [
    "for movies in my_movies_list:\n",
    "    print('    ' + movies)\n"
   ]
  },
  {
   "attachments": {},
   "cell_type": "markdown",
   "metadata": {},
   "source": [
    "## 5) Create a dictionary (key -  value pairs) called `my_movies_dict` with the same four movies as keys and for each movie add as a value the rating on a scale of 0 to 10 you would give it\n",
    "#### Hints:\n",
    "- dictionaries use angular brackets, like this: `{}`\n",
    "- an example would be {'God Father': 3}"
   ]
  },
  {
   "cell_type": "code",
   "execution_count": 23,
   "metadata": {},
   "outputs": [
    {
     "name": "stdout",
     "output_type": "stream",
     "text": [
      "{'monthy python': 8, 'peaky blinders': 9, 'sesamstraat': 10, 'champions league': 4}\n",
      "monthy python\n",
      "peaky blinders\n",
      "sesamstraat\n",
      "champions league\n"
     ]
    }
   ],
   "source": [
    "my_movies_rating = [8,9,10,4]\n",
    "my_movies_dict = dict(zip(my_movies_list, my_movies_rating))\n",
    "print(my_movies_dict)\n",
    "\n"
   ]
  },
  {
   "attachments": {},
   "cell_type": "markdown",
   "metadata": {},
   "source": [
    "## 6) Use a for loop to print every movie and it's rating of your dictionary:\n",
    "#### Hints:\n",
    "- `your_dict.items()` gives you all items\n",
    "- `your_dict.keys()` gives you all the keys\n",
    "- `your_dict.values()` gives you all the values\n",
    "- you can get a value from a dictionary, when you do: `your_dict['key_name']` and this will return the value"
   ]
  },
  {
   "cell_type": "code",
   "execution_count": 43,
   "metadata": {},
   "outputs": [
    {
     "name": "stdout",
     "output_type": "stream",
     "text": [
      "('monthy python', 8)\n",
      "('peaky blinders', 9)\n",
      "('sesamstraat', 10)\n",
      "('champions league', 4)\n",
      "monthy python 8\n",
      "peaky blinders 9\n",
      "sesamstraat 10\n",
      "champions league 4\n",
      "monthy python 8\n",
      "peaky blinders 9\n",
      "sesamstraat 10\n",
      "champions league 4\n"
     ]
    }
   ],
   "source": [
    "for movies in my_movies_dict.items():\n",
    "    print(movies)\n",
    "\n",
    "for key, value in my_movies_dict.items():\n",
    "    print(key, value)\n",
    "\n",
    "for movies in my_movies_dict:\n",
    "    print(movies + \" \" + str(my_movies_dict[movies]))"
   ]
  },
  {
   "attachments": {},
   "cell_type": "markdown",
   "metadata": {},
   "source": [
    "## 7) Write a function called `rating_converter()` that takes as input a movie rating and multiplies it with 10 to convert your movie ratings to a scale of 1 to 100. The function should return the new movie rating.\n",
    "#### Hints:\n",
    "- functions start with `def()`\n",
    "- what belongs inside a function should be indented by 4 spaces or a tab"
   ]
  },
  {
   "cell_type": "code",
   "execution_count": 51,
   "metadata": {},
   "outputs": [
    {
     "name": "stdout",
     "output_type": "stream",
     "text": [
      "[8, 9, 10, 4, 8, 9, 10, 4, 8, 9, 10, 4, 8, 9, 10, 4, 8, 9, 10, 4, 8, 9, 10, 4, 8, 9, 10, 4, 8, 9, 10, 4, 8, 9, 10, 4, 8, 9, 10, 4]\n"
     ]
    }
   ],
   "source": [
    "def rating_converter(rating):\n",
    "    return rating * 10\n",
    "\n",
    "print(rating_converter(my_movies_rating))\n"
   ]
  },
  {
   "attachments": {},
   "cell_type": "markdown",
   "metadata": {},
   "source": [
    "## 8) Try tab completion on your rating_converter() function by writing only the first few letters for example `rat` and then pressing the `Tab` key"
   ]
  },
  {
   "cell_type": "code",
   "execution_count": null,
   "metadata": {},
   "outputs": [],
   "source": [
    "rating_converter"
   ]
  },
  {
   "attachments": {},
   "cell_type": "markdown",
   "metadata": {},
   "source": [
    "## 9) In the next exercises we are going to read in data with `pd.read_csv()`. Type `import pandas as pd` to import pandas and after that `pd.read_csv()` below and see what happens when you do `Shift + Tab` inside the brackets of `pd.read_csv()`. You can see all the arguments then."
   ]
  },
  {
   "cell_type": "code",
   "execution_count": 38,
   "metadata": {},
   "outputs": [
    {
     "data": {
      "text/html": [
       "<div>\n",
       "<style scoped>\n",
       "    .dataframe tbody tr th:only-of-type {\n",
       "        vertical-align: middle;\n",
       "    }\n",
       "\n",
       "    .dataframe tbody tr th {\n",
       "        vertical-align: top;\n",
       "    }\n",
       "\n",
       "    .dataframe thead th {\n",
       "        text-align: right;\n",
       "    }\n",
       "</style>\n",
       "<table border=\"1\" class=\"dataframe\">\n",
       "  <thead>\n",
       "    <tr style=\"text-align: right;\">\n",
       "      <th></th>\n",
       "      <th>tconst</th>\n",
       "      <th>titleType</th>\n",
       "      <th>primaryTitle</th>\n",
       "      <th>originalTitle</th>\n",
       "      <th>isAdult</th>\n",
       "      <th>startYear</th>\n",
       "      <th>endYear</th>\n",
       "      <th>runtimeMinutes</th>\n",
       "      <th>genres</th>\n",
       "      <th>genre1</th>\n",
       "      <th>...</th>\n",
       "      <th>country</th>\n",
       "      <th>primary_language</th>\n",
       "      <th>color</th>\n",
       "      <th>budget</th>\n",
       "      <th>opening_weekend_usa</th>\n",
       "      <th>gross_usa</th>\n",
       "      <th>cumulative_worldwide</th>\n",
       "      <th>tagline</th>\n",
       "      <th>summary</th>\n",
       "      <th>image_url</th>\n",
       "    </tr>\n",
       "  </thead>\n",
       "  <tbody>\n",
       "    <tr>\n",
       "      <th>0</th>\n",
       "      <td>tt0010323</td>\n",
       "      <td>movie</td>\n",
       "      <td>The Cabinet of Dr. Caligari</td>\n",
       "      <td>Das Cabinet des Dr. Caligari</td>\n",
       "      <td>0</td>\n",
       "      <td>1920</td>\n",
       "      <td>NaN</td>\n",
       "      <td>76.0</td>\n",
       "      <td>Fantasy,Horror,Mystery</td>\n",
       "      <td>Fantasy</td>\n",
       "      <td>...</td>\n",
       "      <td>Germany</td>\n",
       "      <td>NaN</td>\n",
       "      <td>Black and White</td>\n",
       "      <td>$18,000</td>\n",
       "      <td>NaN</td>\n",
       "      <td>$8,811</td>\n",
       "      <td>$8,811</td>\n",
       "      <td>You must become Caligari.</td>\n",
       "      <td>Hypnotist Dr. Caligari uses a somnambulist, Ce...</td>\n",
       "      <td>https://m.media-amazon.com/images/M/MV5BNWJiNG...</td>\n",
       "    </tr>\n",
       "    <tr>\n",
       "      <th>1</th>\n",
       "      <td>tt0012349</td>\n",
       "      <td>movie</td>\n",
       "      <td>The Kid</td>\n",
       "      <td>The Kid</td>\n",
       "      <td>0</td>\n",
       "      <td>1921</td>\n",
       "      <td>NaN</td>\n",
       "      <td>68.0</td>\n",
       "      <td>Comedy,Drama,Family</td>\n",
       "      <td>Comedy</td>\n",
       "      <td>...</td>\n",
       "      <td>USA</td>\n",
       "      <td>NaN</td>\n",
       "      <td>Black and White</td>\n",
       "      <td>$250,000</td>\n",
       "      <td>NaN</td>\n",
       "      <td>NaN</td>\n",
       "      <td>$26,916</td>\n",
       "      <td>This is the great film he has been working on ...</td>\n",
       "      <td>The Tramp cares for an abandoned child, but ev...</td>\n",
       "      <td>https://m.media-amazon.com/images/M/MV5BZjhhMT...</td>\n",
       "    </tr>\n",
       "    <tr>\n",
       "      <th>2</th>\n",
       "      <td>tt0013442</td>\n",
       "      <td>movie</td>\n",
       "      <td>Nosferatu</td>\n",
       "      <td>Nosferatu, eine Symphonie des Grauens</td>\n",
       "      <td>0</td>\n",
       "      <td>1922</td>\n",
       "      <td>NaN</td>\n",
       "      <td>94.0</td>\n",
       "      <td>Fantasy,Horror</td>\n",
       "      <td>Fantasy</td>\n",
       "      <td>...</td>\n",
       "      <td>Germany</td>\n",
       "      <td>NaN</td>\n",
       "      <td>Black and White</td>\n",
       "      <td>NaN</td>\n",
       "      <td>NaN</td>\n",
       "      <td>NaN</td>\n",
       "      <td>$19,054</td>\n",
       "      <td>A thrilling mystery masterpiece - a chilling p...</td>\n",
       "      <td>Vampire Count Orlok expresses interest in a ne...</td>\n",
       "      <td>https://m.media-amazon.com/images/M/MV5BMTAxYj...</td>\n",
       "    </tr>\n",
       "    <tr>\n",
       "      <th>3</th>\n",
       "      <td>tt0015324</td>\n",
       "      <td>movie</td>\n",
       "      <td>Sherlock Jr.</td>\n",
       "      <td>Sherlock Jr.</td>\n",
       "      <td>0</td>\n",
       "      <td>1924</td>\n",
       "      <td>NaN</td>\n",
       "      <td>45.0</td>\n",
       "      <td>Action,Comedy,Romance</td>\n",
       "      <td>Action</td>\n",
       "      <td>...</td>\n",
       "      <td>USA</td>\n",
       "      <td>NaN</td>\n",
       "      <td>Black and White</td>\n",
       "      <td>NaN</td>\n",
       "      <td>NaN</td>\n",
       "      <td>$977,375</td>\n",
       "      <td>NaN</td>\n",
       "      <td>every inch of footage holds such a laugh!</td>\n",
       "      <td>A film projectionist longs to be a detective, ...</td>\n",
       "      <td>https://m.media-amazon.com/images/M/MV5BZWFhOG...</td>\n",
       "    </tr>\n",
       "    <tr>\n",
       "      <th>4</th>\n",
       "      <td>tt0015648</td>\n",
       "      <td>movie</td>\n",
       "      <td>Battleship Potemkin</td>\n",
       "      <td>Bronenosets Potemkin</td>\n",
       "      <td>0</td>\n",
       "      <td>1925</td>\n",
       "      <td>NaN</td>\n",
       "      <td>75.0</td>\n",
       "      <td>Drama,History,Thriller</td>\n",
       "      <td>Drama</td>\n",
       "      <td>...</td>\n",
       "      <td>Soviet Union</td>\n",
       "      <td>NaN</td>\n",
       "      <td>Black and White</td>\n",
       "      <td>NaN</td>\n",
       "      <td>$5,641,</td>\n",
       "      <td>$51,198</td>\n",
       "      <td>$61,389</td>\n",
       "      <td>The Sensational Russian Film which is astoundi...</td>\n",
       "      <td>In the midst of the Russian Revolution of 1905...</td>\n",
       "      <td>https://m.media-amazon.com/images/M/MV5BMTEyMT...</td>\n",
       "    </tr>\n",
       "    <tr>\n",
       "      <th>...</th>\n",
       "      <td>...</td>\n",
       "      <td>...</td>\n",
       "      <td>...</td>\n",
       "      <td>...</td>\n",
       "      <td>...</td>\n",
       "      <td>...</td>\n",
       "      <td>...</td>\n",
       "      <td>...</td>\n",
       "      <td>...</td>\n",
       "      <td>...</td>\n",
       "      <td>...</td>\n",
       "      <td>...</td>\n",
       "      <td>...</td>\n",
       "      <td>...</td>\n",
       "      <td>...</td>\n",
       "      <td>...</td>\n",
       "      <td>...</td>\n",
       "      <td>...</td>\n",
       "      <td>...</td>\n",
       "      <td>...</td>\n",
       "      <td>...</td>\n",
       "    </tr>\n",
       "    <tr>\n",
       "      <th>5825</th>\n",
       "      <td>tt9686708</td>\n",
       "      <td>movie</td>\n",
       "      <td>The King of Staten Island</td>\n",
       "      <td>The King of Staten Island</td>\n",
       "      <td>0</td>\n",
       "      <td>2020</td>\n",
       "      <td>NaN</td>\n",
       "      <td>136.0</td>\n",
       "      <td>Comedy,Drama</td>\n",
       "      <td>Comedy</td>\n",
       "      <td>...</td>\n",
       "      <td>USA</td>\n",
       "      <td>English</td>\n",
       "      <td>Color</td>\n",
       "      <td>NaN</td>\n",
       "      <td>NaN</td>\n",
       "      <td>NaN</td>\n",
       "      <td>$2,239,757</td>\n",
       "      <td>NaN</td>\n",
       "      <td>Scott has been a case of arrested development ...</td>\n",
       "      <td>https://m.media-amazon.com/images/M/MV5BYzkxMz...</td>\n",
       "    </tr>\n",
       "    <tr>\n",
       "      <th>5826</th>\n",
       "      <td>tt9698480</td>\n",
       "      <td>tvSeries</td>\n",
       "      <td>The Stranger</td>\n",
       "      <td>The Stranger</td>\n",
       "      <td>0</td>\n",
       "      <td>2020</td>\n",
       "      <td>2020.0</td>\n",
       "      <td>42.0</td>\n",
       "      <td>Crime,Drama,Mystery</td>\n",
       "      <td>Crime</td>\n",
       "      <td>...</td>\n",
       "      <td>UK</td>\n",
       "      <td>English</td>\n",
       "      <td>Color</td>\n",
       "      <td>NaN</td>\n",
       "      <td>NaN</td>\n",
       "      <td>NaN</td>\n",
       "      <td>NaN</td>\n",
       "      <td>We All Have Secrets</td>\n",
       "      <td>Follows the lives of suburban families whose s...</td>\n",
       "      <td>https://m.media-amazon.com/images/M/MV5BNWNlYz...</td>\n",
       "    </tr>\n",
       "    <tr>\n",
       "      <th>5827</th>\n",
       "      <td>tt9777644</td>\n",
       "      <td>movie</td>\n",
       "      <td>Da 5 Bloods</td>\n",
       "      <td>Da 5 Bloods</td>\n",
       "      <td>0</td>\n",
       "      <td>2020</td>\n",
       "      <td>NaN</td>\n",
       "      <td>154.0</td>\n",
       "      <td>Adventure,Drama,War</td>\n",
       "      <td>Adventure</td>\n",
       "      <td>...</td>\n",
       "      <td>USA</td>\n",
       "      <td>English</td>\n",
       "      <td>Color</td>\n",
       "      <td>NaN</td>\n",
       "      <td>NaN</td>\n",
       "      <td>NaN</td>\n",
       "      <td>NaN</td>\n",
       "      <td>NaN</td>\n",
       "      <td>Four African-American vets battle the forces o...</td>\n",
       "      <td>https://m.media-amazon.com/images/M/MV5BNjE4OD...</td>\n",
       "    </tr>\n",
       "    <tr>\n",
       "      <th>5828</th>\n",
       "      <td>tt9806192</td>\n",
       "      <td>movie</td>\n",
       "      <td>I Lost My Body</td>\n",
       "      <td>J'ai perdu mon corps</td>\n",
       "      <td>0</td>\n",
       "      <td>2019</td>\n",
       "      <td>NaN</td>\n",
       "      <td>81.0</td>\n",
       "      <td>Animation,Drama,Fantasy</td>\n",
       "      <td>Animation</td>\n",
       "      <td>...</td>\n",
       "      <td>France</td>\n",
       "      <td>French</td>\n",
       "      <td>Color</td>\n",
       "      <td>NaN</td>\n",
       "      <td>NaN</td>\n",
       "      <td>NaN</td>\n",
       "      <td>$1,136,431</td>\n",
       "      <td>An extraordinary journey in self-discovery.</td>\n",
       "      <td>A story of Naoufel, a young man who is in love...</td>\n",
       "      <td>https://m.media-amazon.com/images/M/MV5BNDZjZj...</td>\n",
       "    </tr>\n",
       "    <tr>\n",
       "      <th>5829</th>\n",
       "      <td>tt9866072</td>\n",
       "      <td>movie</td>\n",
       "      <td>Holidate</td>\n",
       "      <td>Holidate</td>\n",
       "      <td>0</td>\n",
       "      <td>2020</td>\n",
       "      <td>NaN</td>\n",
       "      <td>103.0</td>\n",
       "      <td>Comedy,Romance</td>\n",
       "      <td>Comedy</td>\n",
       "      <td>...</td>\n",
       "      <td>USA</td>\n",
       "      <td>English</td>\n",
       "      <td>Color</td>\n",
       "      <td>NaN</td>\n",
       "      <td>NaN</td>\n",
       "      <td>NaN</td>\n",
       "      <td>NaN</td>\n",
       "      <td>Who's Your Perfect Plus-One?</td>\n",
       "      <td>Fed up with being single on holidays, two stra...</td>\n",
       "      <td>https://m.media-amazon.com/images/M/MV5BYWVmYT...</td>\n",
       "    </tr>\n",
       "  </tbody>\n",
       "</table>\n",
       "<p>5830 rows × 26 columns</p>\n",
       "</div>"
      ],
      "text/plain": [
       "         tconst titleType                 primaryTitle  \\\n",
       "0     tt0010323     movie  The Cabinet of Dr. Caligari   \n",
       "1     tt0012349     movie                      The Kid   \n",
       "2     tt0013442     movie                    Nosferatu   \n",
       "3     tt0015324     movie                 Sherlock Jr.   \n",
       "4     tt0015648     movie          Battleship Potemkin   \n",
       "...         ...       ...                          ...   \n",
       "5825  tt9686708     movie    The King of Staten Island   \n",
       "5826  tt9698480  tvSeries                 The Stranger   \n",
       "5827  tt9777644     movie                  Da 5 Bloods   \n",
       "5828  tt9806192     movie               I Lost My Body   \n",
       "5829  tt9866072     movie                     Holidate   \n",
       "\n",
       "                              originalTitle  isAdult  startYear  endYear  \\\n",
       "0              Das Cabinet des Dr. Caligari        0       1920      NaN   \n",
       "1                                   The Kid        0       1921      NaN   \n",
       "2     Nosferatu, eine Symphonie des Grauens        0       1922      NaN   \n",
       "3                              Sherlock Jr.        0       1924      NaN   \n",
       "4                      Bronenosets Potemkin        0       1925      NaN   \n",
       "...                                     ...      ...        ...      ...   \n",
       "5825              The King of Staten Island        0       2020      NaN   \n",
       "5826                           The Stranger        0       2020   2020.0   \n",
       "5827                            Da 5 Bloods        0       2020      NaN   \n",
       "5828                   J'ai perdu mon corps        0       2019      NaN   \n",
       "5829                               Holidate        0       2020      NaN   \n",
       "\n",
       "      runtimeMinutes                   genres     genre1  ...       country  \\\n",
       "0               76.0   Fantasy,Horror,Mystery    Fantasy  ...       Germany   \n",
       "1               68.0      Comedy,Drama,Family     Comedy  ...           USA   \n",
       "2               94.0           Fantasy,Horror    Fantasy  ...       Germany   \n",
       "3               45.0    Action,Comedy,Romance     Action  ...           USA   \n",
       "4               75.0   Drama,History,Thriller      Drama  ...  Soviet Union   \n",
       "...              ...                      ...        ...  ...           ...   \n",
       "5825           136.0             Comedy,Drama     Comedy  ...           USA   \n",
       "5826            42.0      Crime,Drama,Mystery      Crime  ...            UK   \n",
       "5827           154.0      Adventure,Drama,War  Adventure  ...           USA   \n",
       "5828            81.0  Animation,Drama,Fantasy  Animation  ...        France   \n",
       "5829           103.0           Comedy,Romance     Comedy  ...           USA   \n",
       "\n",
       "     primary_language            color    budget  opening_weekend_usa  \\\n",
       "0                 NaN  Black and White   $18,000                  NaN   \n",
       "1                 NaN  Black and White  $250,000                  NaN   \n",
       "2                 NaN  Black and White       NaN                  NaN   \n",
       "3                 NaN  Black and White       NaN                  NaN   \n",
       "4                 NaN  Black and White       NaN              $5,641,   \n",
       "...               ...              ...       ...                  ...   \n",
       "5825          English            Color       NaN                  NaN   \n",
       "5826          English            Color       NaN                  NaN   \n",
       "5827          English            Color       NaN                  NaN   \n",
       "5828           French            Color       NaN                  NaN   \n",
       "5829          English            Color       NaN                  NaN   \n",
       "\n",
       "      gross_usa cumulative_worldwide  \\\n",
       "0        $8,811               $8,811   \n",
       "1           NaN              $26,916   \n",
       "2           NaN              $19,054   \n",
       "3      $977,375                  NaN   \n",
       "4       $51,198              $61,389   \n",
       "...         ...                  ...   \n",
       "5825        NaN           $2,239,757   \n",
       "5826        NaN                  NaN   \n",
       "5827        NaN                  NaN   \n",
       "5828        NaN           $1,136,431   \n",
       "5829        NaN                  NaN   \n",
       "\n",
       "                                                tagline  \\\n",
       "0                             You must become Caligari.   \n",
       "1     This is the great film he has been working on ...   \n",
       "2     A thrilling mystery masterpiece - a chilling p...   \n",
       "3             every inch of footage holds such a laugh!   \n",
       "4     The Sensational Russian Film which is astoundi...   \n",
       "...                                                 ...   \n",
       "5825                                                NaN   \n",
       "5826                                We All Have Secrets   \n",
       "5827                                                NaN   \n",
       "5828        An extraordinary journey in self-discovery.   \n",
       "5829                       Who's Your Perfect Plus-One?   \n",
       "\n",
       "                                                summary  \\\n",
       "0     Hypnotist Dr. Caligari uses a somnambulist, Ce...   \n",
       "1     The Tramp cares for an abandoned child, but ev...   \n",
       "2     Vampire Count Orlok expresses interest in a ne...   \n",
       "3     A film projectionist longs to be a detective, ...   \n",
       "4     In the midst of the Russian Revolution of 1905...   \n",
       "...                                                 ...   \n",
       "5825  Scott has been a case of arrested development ...   \n",
       "5826  Follows the lives of suburban families whose s...   \n",
       "5827  Four African-American vets battle the forces o...   \n",
       "5828  A story of Naoufel, a young man who is in love...   \n",
       "5829  Fed up with being single on holidays, two stra...   \n",
       "\n",
       "                                              image_url  \n",
       "0     https://m.media-amazon.com/images/M/MV5BNWJiNG...  \n",
       "1     https://m.media-amazon.com/images/M/MV5BZjhhMT...  \n",
       "2     https://m.media-amazon.com/images/M/MV5BMTAxYj...  \n",
       "3     https://m.media-amazon.com/images/M/MV5BZWFhOG...  \n",
       "4     https://m.media-amazon.com/images/M/MV5BMTEyMT...  \n",
       "...                                                 ...  \n",
       "5825  https://m.media-amazon.com/images/M/MV5BYzkxMz...  \n",
       "5826  https://m.media-amazon.com/images/M/MV5BNWNlYz...  \n",
       "5827  https://m.media-amazon.com/images/M/MV5BNjE4OD...  \n",
       "5828  https://m.media-amazon.com/images/M/MV5BNDZjZj...  \n",
       "5829  https://m.media-amazon.com/images/M/MV5BYWVmYT...  \n",
       "\n",
       "[5830 rows x 26 columns]"
      ]
     },
     "execution_count": 38,
     "metadata": {},
     "output_type": "execute_result"
    }
   ],
   "source": [
    "import pandas as pd\n",
    "pd.read_csv('most_voted_titles_enriched.csv')\n"
   ]
  },
  {
   "attachments": {},
   "cell_type": "markdown",
   "metadata": {},
   "source": [
    "## 10) Also try tab completion by only writing `pd.read_` and then pressing the  `Tab` key."
   ]
  },
  {
   "cell_type": "code",
   "execution_count": 40,
   "metadata": {},
   "outputs": [
    {
     "data": {
      "text/plain": [
       "<function pandas.io.parsers.readers.read_csv(filepath_or_buffer: 'FilePath | ReadCsvBuffer[bytes] | ReadCsvBuffer[str]', *, sep: 'str | None | lib.NoDefault' = <no_default>, delimiter: 'str | None | lib.NoDefault' = None, header: \"int | Sequence[int] | None | Literal['infer']\" = 'infer', names: 'Sequence[Hashable] | None | lib.NoDefault' = <no_default>, index_col: 'IndexLabel | Literal[False] | None' = None, usecols: 'UsecolsArgType' = None, dtype: 'DtypeArg | None' = None, engine: 'CSVEngine | None' = None, converters: 'Mapping[Hashable, Callable] | None' = None, true_values: 'list | None' = None, false_values: 'list | None' = None, skipinitialspace: 'bool' = False, skiprows: 'list[int] | int | Callable[[Hashable], bool] | None' = None, skipfooter: 'int' = 0, nrows: 'int | None' = None, na_values: 'Hashable | Iterable[Hashable] | Mapping[Hashable, Iterable[Hashable]] | None' = None, keep_default_na: 'bool' = True, na_filter: 'bool' = True, verbose: 'bool | lib.NoDefault' = <no_default>, skip_blank_lines: 'bool' = True, parse_dates: 'bool | Sequence[Hashable] | None' = None, infer_datetime_format: 'bool | lib.NoDefault' = <no_default>, keep_date_col: 'bool | lib.NoDefault' = <no_default>, date_parser: 'Callable | lib.NoDefault' = <no_default>, date_format: 'str | dict[Hashable, str] | None' = None, dayfirst: 'bool' = False, cache_dates: 'bool' = True, iterator: 'bool' = False, chunksize: 'int | None' = None, compression: 'CompressionOptions' = 'infer', thousands: 'str | None' = None, decimal: 'str' = '.', lineterminator: 'str | None' = None, quotechar: 'str' = '\"', quoting: 'int' = 0, doublequote: 'bool' = True, escapechar: 'str | None' = None, comment: 'str | None' = None, encoding: 'str | None' = None, encoding_errors: 'str | None' = 'strict', dialect: 'str | csv.Dialect | None' = None, on_bad_lines: 'str' = 'error', delim_whitespace: 'bool | lib.NoDefault' = <no_default>, low_memory: 'bool' = True, memory_map: 'bool' = False, float_precision: \"Literal['high', 'legacy'] | None\" = None, storage_options: 'StorageOptions | None' = None, dtype_backend: 'DtypeBackend | lib.NoDefault' = <no_default>) -> 'DataFrame | TextFileReader'>"
      ]
     },
     "execution_count": 40,
     "metadata": {},
     "output_type": "execute_result"
    }
   ],
   "source": [
    "pd.read_csv"
   ]
  }
 ],
 "metadata": {
  "kernelspec": {
   "display_name": "auto_calculator2",
   "language": "python",
   "name": "python3"
  },
  "language_info": {
   "codemirror_mode": {
    "name": "ipython",
    "version": 3
   },
   "file_extension": ".py",
   "mimetype": "text/x-python",
   "name": "python",
   "nbconvert_exporter": "python",
   "pygments_lexer": "ipython3",
   "version": "3.12.4"
  }
 },
 "nbformat": 4,
 "nbformat_minor": 4
}
